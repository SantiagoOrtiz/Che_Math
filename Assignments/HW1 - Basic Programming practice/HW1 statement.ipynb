{
 "cells": [
  {
   "cell_type": "markdown",
   "metadata": {
    "id": "Y11mmk-POcdi"
   },
   "source": [
    "# Homework 1 - Basic practice in Jupyter and GitHub.\n",
    "\n",
    "Programming can only be learned by doing. The following exercises blend coding math and text to create clearly defined results. For example, instead of calculating a simple number, you must print the number plus the units (e.g. 24 mg/L). "
   ]
  },
  {
   "cell_type": "markdown",
   "metadata": {
    "id": "pds4TPg7Ocdk"
   },
   "source": [
    "### Academic honesty statement\n",
    "\n",
    "**YOUR NAME HERE**\n",
    "\n",
    "Place your academic honesty statement below. Here are some acceptable examples.\n",
    "\n",
    "-   I worked alone on this assignment.\n",
    "\n",
    "\n"
   ]
  },
  {
   "cell_type": "markdown",
   "metadata": {
    "id": "xxt1nnExOcdl"
   },
   "source": [
    "# Problem 1: Gas Laws\n",
    "\n"
   ]
  },
  {
   "cell_type": "markdown",
   "metadata": {
    "id": "JuvQUBLEOcdl"
   },
   "source": [
    "The virial equation for a gas can be represented as $\\frac{PV}{RT} = 1 + \\frac{B}{V} + \\frac{C}{V^2}$ where $V$ is the molar volume.\n",
    "\n",
    "For isopropanol $B=-388 cm^3/mol$ and $C=-26,000 cm^6/mol^2$.\n",
    "\n",
    "We are going to find $V$ for isopropanol at 200 ∘C and 10 bar with a graphical technique.\n",
    "\n",
    "In this problem $R=83.14 cm^3 bar / (mol K)$.\n",
    "\n"
   ]
  },
  {
   "cell_type": "markdown",
   "metadata": {
    "id": "N85v2XfbOcdm"
   },
   "source": [
    "### Compute V for an ideal gas\n",
    "\n"
   ]
  },
  {
   "cell_type": "markdown",
   "metadata": {
    "id": "Plvr16hTOcdm"
   },
   "source": [
    "The ideal gas law is $1 = \\frac{PV}{RT}$. Use this to estimate the volume of isopropanol in the ideal gas state. Print your answer with one decimal place and the printed answer **must include units.**\n",
    "\n"
   ]
  },
  {
   "cell_type": "code",
   "execution_count": null,
   "metadata": {
    "id": "DO6ejIzSOcdn"
   },
   "outputs": [],
   "source": []
  },
  {
   "cell_type": "markdown",
   "metadata": {
    "id": "GhXUb5fmOcdo"
   },
   "source": [
    "### Compute V for the Virial Gas Law\n",
    "\n"
   ]
  },
  {
   "cell_type": "markdown",
   "metadata": {
    "id": "OqlWSmlkOcdo"
   },
   "source": [
    "To do this, create a new function:\n",
    "\n",
    "$f(V) = \\frac{PV}{RT} - 1 - \\frac{B}{V} - \\frac{C}{V^2} = 0$\n",
    "\n",
    "and then find values of $V$ where $f(V) = 0$. Start by defining this function and test that it works.Show that your function works by evaluating it for some examples, including an array of volumes.\n",
    "\n"
   ]
  },
  {
   "cell_type": "code",
   "execution_count": null,
   "metadata": {
    "id": "OD-HR1wyOcdp"
   },
   "outputs": [],
   "source": []
  },
  {
   "cell_type": "markdown",
   "metadata": {
    "id": "WUJGf7_WOcdp"
   },
   "source": [
    "### Plot f(V) over a range where you can observe a zero\n",
    "\n"
   ]
  },
  {
   "cell_type": "markdown",
   "metadata": {
    "id": "OYRJjO5EOcdq"
   },
   "source": [
    "You should make the x-axis sufficiently zoomed in to estimate the solution to about 10 cm<sup>3</sup>.\n",
    "\n"
   ]
  },
  {
   "cell_type": "code",
   "execution_count": null,
   "metadata": {
    "id": "EdzefmJCOcdq"
   },
   "outputs": [],
   "source": []
  },
  {
   "cell_type": "markdown",
   "metadata": {
    "id": "wfncWUYUOcdq"
   },
   "source": [
    "State in words where the solution(s) are.\n",
    "\n"
   ]
  },
  {
   "cell_type": "markdown",
   "metadata": {
    "id": "AECwd73cOcdr"
   },
   "source": [
    "### Express this in the form of a cubic polynomial in $V$\n",
    "\n"
   ]
  },
  {
   "cell_type": "markdown",
   "metadata": {
    "id": "ihZFqQofOcdr"
   },
   "source": [
    "Derive an alternative expression for f(V) where it is a cubic polynomial of the form $0 = a V^3 + b V^2 + c V + d$. Write this expression in LaTeX, with explicit definitions for the coefficients.\n",
    "\n"
   ]
  },
  {
   "cell_type": "markdown",
   "metadata": {
    "id": "lU-AncedOcdr"
   },
   "source": [
    "# Problem 2: Running and plotting an ODE\n",
    "\n",
    "Most programming is repeative. Once you learn how to run an ODE solver, running it again in the future involves just editing prior code. We discussed the Lorenz equations in class, now we'll run them ourselves. The equations are as follows: \n",
    "\n",
    "\\begin{align}\n",
    "\\dot{x} & = \\sigma(y-x) \\\\\n",
    "\\dot{y} & = \\rho x - y - xz \\\\\n",
    "\\dot{z} & = -\\beta z + xy\n",
    "\\end{align}\n",
    "\n",
    "These equations are to describe a 2 dimensional layer of fluid that is heat from below and cooled from above. The derivation of these equations is beyond our interest here but can be found easily online. We want to focus on how to simulate such equations.\n",
    "\n",
    "In the above, x is proportional to the intensity of the convective motion, while y is proportional to the temperature difference between the ascending and descending currents, similar signs of x and y denoting that warm fluid is rising and cold fluid is descending. The variable z is proportional to the distortion of vertical temperature profile from linearity, a positive value indicating that the strongest gradients occur near the boundaries.\n",
    "\n",
    "Let the parameters be\n",
    "\\begin{align}\n",
    "\\sigma =10\\\\\n",
    "\\beta =8/3\\\\\n",
    "\\rho =28\\\\\n",
    "\\end{align}\n",
    "\n",
    "We will ignore units for this problem.\n",
    "\n",
    "In the space below, \n",
    "1. Simulate this system with initial conditions of x = y = z = 1. Simulate out to time 1000 and take 0.1 time unit step sizes. Save the necessary results in a matrix.\n"
   ]
  },
  {
   "cell_type": "code",
   "execution_count": null,
   "metadata": {
    "executionInfo": {
     "elapsed": 10,
     "status": "ok",
     "timestamp": 1630070936946,
     "user": {
      "displayName": "Jason Shoemaker",
      "photoUrl": "",
      "userId": "09936874856589552694"
     },
     "user_tz": 240
    },
    "id": "wYVpSv-KOcdr"
   },
   "outputs": [],
   "source": []
  },
  {
   "cell_type": "markdown",
   "metadata": {
    "id": "S70-xhVhzMPQ"
   },
   "source": [
    "2. Simulate the system again but with x = y = 1 and z = 0.9999 (precisely). Save the necessary results in a matrix."
   ]
  },
  {
   "cell_type": "code",
   "execution_count": null,
   "metadata": {
    "id": "UtBIPWnczS6W"
   },
   "outputs": [],
   "source": []
  },
  {
   "cell_type": "markdown",
   "metadata": {
    "id": "SThZqhvvzUF7"
   },
   "source": [
    "3. On a single plot, plot x vs y from 1 and 2 above. Be sure to label axes."
   ]
  },
  {
   "cell_type": "code",
   "execution_count": null,
   "metadata": {
    "id": "5RRQvOtgzUZM"
   },
   "outputs": [],
   "source": []
  },
  {
   "cell_type": "markdown",
   "metadata": {
    "id": "aYSbyjz0zUpj"
   },
   "source": [
    "4. On a single plot, plot x vs z from 1 and 2 above. Be sure to label axes."
   ]
  },
  {
   "cell_type": "code",
   "execution_count": null,
   "metadata": {
    "id": "xpzagdiezU5U"
   },
   "outputs": [],
   "source": []
  },
  {
   "cell_type": "markdown",
   "metadata": {
    "id": "9YXWc3G_zcOB"
   },
   "source": [
    "5. On a single plot, plot x vs time from 1 and 2 above. Be sure to label."
   ]
  },
  {
   "cell_type": "code",
   "execution_count": null,
   "metadata": {
    "id": "eJ_NZB5rzcdg"
   },
   "outputs": [],
   "source": []
  },
  {
   "cell_type": "markdown",
   "metadata": {
    "id": "c0BHSS6kzcrm"
   },
   "source": [
    "6. After completing all simulations, comment on how changing the initial value of z by 0.01% impacted the simulation outcomes. Be sure to use a Markdown cell for this.\n",
    "\n",
    "**Write your answer here.**"
   ]
  },
  {
   "cell_type": "markdown",
   "metadata": {
    "id": "2YUQOoW6Ocds"
   },
   "source": [
    "# Problem 3 - Reading COVID data and Prediction\n",
    "\n",
    "I hope I mentioned in class that when it comes to addressing engineering questions computationally, you will often be expected to learn on your own. This means using google or what have you and searching for specific libraries that can help solve the problem at hand. \n",
    "\n",
    "Here, I have provided some data that I pulled from the New York Time's GitHub COVID-19 data repository. The file is called florida.csv and contains COVID outbreak data specific to Florida. The data contains: the week since the start of the outbreak, the 7 day sliding average of the number of COVID positive cases and the 7 day sliding average of the number of deaths reported.\n",
    "\n",
    "In the cell below, write the code necessary to load this data into the workspace and give the resulting array the name \"dat\". The numpy.genfromtxt function may be helpful."
   ]
  },
  {
   "cell_type": "code",
   "execution_count": null,
   "metadata": {
    "id": "75fWQ1G8Ocds"
   },
   "outputs": [],
   "source": []
  },
  {
   "cell_type": "markdown",
   "metadata": {
    "id": "wBa_ZzJfOcdt"
   },
   "source": [
    "Next, make a points plot with the average number of cases on the x axis and the average number of deaths on the y axis. Have the color of the points change according to the week of the infection. There are a lot of ways to generate such a plot. Consider matlibplot and ggplot2. After plotting, create a markdown cell and comment on the how these two features have evolved in time."
   ]
  },
  {
   "cell_type": "code",
   "execution_count": null,
   "metadata": {
    "id": "TFvw9tnoOcdt"
   },
   "outputs": [],
   "source": []
  },
  {
   "cell_type": "markdown",
   "metadata": {
    "id": "BVghMhc7Ocdt"
   },
   "source": [
    "**Put Commentary here:**"
   ]
  },
  {
   "cell_type": "markdown",
   "metadata": {
    "id": "qzFABY1POcdt"
   },
   "source": [
    "One goal of every scientist should be to use data for predictions. Here, we'll use this goal as a chance to practice for loops. \n",
    "\n",
    "Ideally, in a world without delays and nonlinearities, the best way to predict an outcome is with a linear model, aka a straight line. Right a \"for loop\" which adds 4 straight lines to our plot of average infection and average mortality. Each line should have an intercept at zero and a slope of 0.001, 0.01, 0.1 and 1. "
   ]
  },
  {
   "cell_type": "code",
   "execution_count": null,
   "metadata": {
    "id": "RhjgwVzhOcdu"
   },
   "outputs": [],
   "source": []
  },
  {
   "cell_type": "markdown",
   "metadata": {
    "id": "8miF6AstOcdu"
   },
   "source": [
    "Using just your eyes, which straight line seems to best fit the data? What does best fit mean? "
   ]
  },
  {
   "cell_type": "markdown",
   "metadata": {},
   "source": [
    "# Problem 4 Github\n",
    "\n",
    "- Create a github repository called \"Che_Math\".\n",
    "- Create a read me file that explain that this repository will include code related to homeworks and projects from this course.\n",
    "- Push this homework assignment to your repository.\n",
    "- Enter the link you your repository here:\n",
    "\n",
    "\n",
    "**Upload your jupyter notebook to Canvas for grading. Thank you!"
   ]
  },
  {
   "cell_type": "code",
   "execution_count": null,
   "metadata": {},
   "outputs": [],
   "source": []
  }
 ],
 "metadata": {
  "colab": {
   "name": "Homework 1 Basic Python.ipynb",
   "provenance": []
  },
  "kernelspec": {
   "display_name": "Python 3",
   "language": "python",
   "name": "python3"
  },
  "language_info": {
   "codemirror_mode": {
    "name": "ipython",
    "version": 3
   },
   "file_extension": ".py",
   "mimetype": "text/x-python",
   "name": "python",
   "nbconvert_exporter": "python",
   "pygments_lexer": "ipython3",
   "version": "3.8.8"
  },
  "org": null
 },
 "nbformat": 4,
 "nbformat_minor": 1
}
