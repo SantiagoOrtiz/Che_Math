{
 "cells": [
  {
   "cell_type": "markdown",
   "id": "1873ff44",
   "metadata": {
    "slideshow": {
     "slide_type": "subslide"
    }
   },
   "source": [
    "# Bootstrapping to estimate parameter ranges of nonlinear models\n",
    "\n",
    "When we first introduced ourselves to regression, we focused the regression algorithm’s ability to find the “truth”, i.e. how close to the true parameter values does the algorithm get.\n",
    "\n",
    "In statistics and boostrapping, the truth is (typically) unknown and there is noise associated with any given measurement. So our question becomes “how confident am I that the parameters of my model are not zero?” And as discussed in class, all kinds of challenges arise when using bootstrapping. Here, we'll try a simple example.\n",
    "\n",
    "Let's consider one of our equations for bacterial growth:\n",
    "\\begin{align}\n",
    "\\dot{y} = \\frac{y^3}{a+y^3}-by\n",
    "\\end{align}\n",
    "\n",
    "where y is the concentration of bacterium and a and b are parameters that help define the rate of bacterial growth and loss, respectively. \n",
    "\n",
    "You have been provided with data, called \"Homework11 Data.csv\". Use this data for the following excercises. In this file, you'll find the time points sampled and the concentration of bacterium (y) for 5 independent experiments. We will consider data to be independent across time and experiments.\n",
    "\n",
    "## Part 1: Plot data and perform initial fitting\n",
    "\n",
    "In the space below, load the data and write the code to fit the parameters of our model to the data using minimize or fsolve. You may want to revisit your previous homeworks. To make things a little easier, I'll give you the first guess for your parameter. Go with (a,b) = (0.3,0.8). After fitting:\n",
    "   - clearly indicate what were the parameter values and the value of the cost function you implemented.\n",
    "   - Plot on one plot the data and the fitted model's response"
   ]
  },
  {
   "cell_type": "code",
   "execution_count": null,
   "id": "a3ed747e",
   "metadata": {},
   "outputs": [],
   "source": []
  },
  {
   "cell_type": "markdown",
   "id": "482027f3",
   "metadata": {},
   "source": [
    "## Part 2: Use sampling with replacement to create distributions of parameters that fit the data\n",
    "\n",
    "Our hypothesis is that both a and b are greater than 0. Use the bootstrap method to create distributions of estimates of our parameter values. We can do this by, **for each iteration:**\n",
    "   - Resample the data at each time point using sample with replacement (search online how to do).\n",
    "   - Use minimize to refit the model to the resampled data\n",
    "   - Save the fitted parameter estimates and the value of the cost function.\n",
    "   \n",
    "Do this for at least 200 iterations. HINT: this code may take a long time to run. It would be best to get the code working with only a few iterations. And once happy, then try 200. After completing, plot histograms of the fitted parameter values and cost function values. Figures must be clearly labeled and obvious to read. \n",
    "\n",
    "Based on these data, what is the p value for the null hypothesis that a and b are equal to zero? Calculate the one sided p value, based on the idea that we expect them to be greater than zero.\n",
    "   "
   ]
  },
  {
   "cell_type": "code",
   "execution_count": null,
   "id": "b7d9af61",
   "metadata": {},
   "outputs": [],
   "source": []
  },
  {
   "cell_type": "markdown",
   "id": "99b4a942",
   "metadata": {},
   "source": [
    "## Part 3 Analyze fit results\n",
    "\n",
    "One a single figure, plot the model's response vs time for all 200 estimates of the parameter values. Are the fits reasonable? Should any of the fits be discounted? Why so? Does this change how you define your p values above? **Defend your answer here and include any plots as necessary:**\n",
    "\n"
   ]
  },
  {
   "cell_type": "code",
   "execution_count": null,
   "id": "f9a9b368",
   "metadata": {},
   "outputs": [],
   "source": []
  }
 ],
 "metadata": {
  "kernelspec": {
   "display_name": "Python 3",
   "language": "python",
   "name": "python3"
  },
  "language_info": {
   "codemirror_mode": {
    "name": "ipython",
    "version": 3
   },
   "file_extension": ".py",
   "mimetype": "text/x-python",
   "name": "python",
   "nbconvert_exporter": "python",
   "pygments_lexer": "ipython3",
   "version": "3.8.8"
  }
 },
 "nbformat": 4,
 "nbformat_minor": 5
}
