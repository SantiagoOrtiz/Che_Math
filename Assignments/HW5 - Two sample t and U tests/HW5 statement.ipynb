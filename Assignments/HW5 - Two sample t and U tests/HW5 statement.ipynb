{
 "cells": [
  {
   "cell_type": "markdown",
   "id": "78d343fd",
   "metadata": {},
   "source": [
    "# Problem 1: Null distributions of a one-sample vs two sample t\n",
    "\n",
    "We've spent a lot of time discussing the \"null distribution\".\n",
    "- The null hypothesis for a 1 sample t test is that the mean of the normal population our data comes from is equal to our hypothesized mean, $\\mu$. Therefore, the null distribution is the distribution of t values we expect to observe if we randomly sample from a normal population that has a mean equal to our hypothesized mean, $\\mu$.\n",
    "- The null hypothesis for a 2 sample t test can be more nuanced, depending on the assumptions we make about each samples standard deviations. Here, we will consider the independent, equal sample size, equal variance two-sample t test.\n",
    "\n",
    "## Confirm we can calculate t correctly\n",
    "\n",
    "Let's start by firsting making sure we can calculate t correctly. For this problem, let's use the heights of players (in centimeters) randomly selected from the LA Lakers and Boston Celtics rosters:\n",
    "\n",
    "Lakers = [200, 210, 220,225,215];\n",
    "\n",
    "Heat = [190, 220, 193, 200, 190];\n",
    "\n",
    "In the space below, calculate the 1 sample t value for the Lakers, assuming their average height is 195 cm, and the two-sample t value for this data. Confirm your answers using ttest_1samp and ttest_ind. Be sure to **note** the technicality discussion on the last slide of Lecture 11."
   ]
  },
  {
   "cell_type": "code",
   "execution_count": null,
   "id": "7f0a9852",
   "metadata": {},
   "outputs": [],
   "source": []
  },
  {
   "cell_type": "markdown",
   "id": "a2a25437",
   "metadata": {},
   "source": [
    "## Compare t distributions for 1 and 2 sample tests\n",
    "\n",
    "- In the space below, write the code necessary to create null distributions for single and two-sample t tests when:\n",
    "    - For the single sample t test, you are collecting 9 samples\n",
    "    - For the two sample t test, you are collected 5 samples for each group.\n",
    "- Produce density plots to compare the two distributions.\n",
    "    - Be sure to select enough samples and to adjust bins sizes as needed so that the density plots are clear and stable (meaning each time you run it, you basically get the same answer).\n",
    "    - Can use density feature of plt.hist or Seaborn's  sns function.\n",
    "    - On the figure, clearly indicate the degrees of freedom for the specific t test\n",
    "    - Unclear figures will not receive credit.\n"
   ]
  },
  {
   "cell_type": "code",
   "execution_count": null,
   "id": "600a5a3d",
   "metadata": {},
   "outputs": [],
   "source": []
  },
  {
   "cell_type": "markdown",
   "id": "9551881e",
   "metadata": {},
   "source": [
    "Based on your figure(s) above, how do the two distributions compare? **Comment here:**"
   ]
  },
  {
   "cell_type": "markdown",
   "id": "22bd83ed",
   "metadata": {},
   "source": [
    "## Compute p value for two-sample t test\n",
    "- Using your null t distribution for your two sample t test, what is the likelihood that the heights of the Lakers and Heat come from populations with the same means?\n",
    "- Check your answer using ttest_ind"
   ]
  },
  {
   "cell_type": "code",
   "execution_count": null,
   "id": "f59d1e0d",
   "metadata": {},
   "outputs": [],
   "source": []
  },
  {
   "cell_type": "markdown",
   "id": "1bb9c720",
   "metadata": {},
   "source": [
    "# Problem 2 Changing our data's distributions\n",
    "\n",
    "As we've seen, we typically must assume that our data comes from a normal distribution. Let's use our brute force approach to determine how changing that assumption impacts our null t distributions.\n",
    "\n",
    "- Below, create the null t distributions for a single-sample t test for n = 3, 8 and 30 when sampling from a normal distribution and a uniform distribution. \n",
    "- For each case, plot the density plots such that you can compare the distributions that result from sampling the normally and uniformally distributed data.\n",
    "- Clearly label all figures."
   ]
  },
  {
   "cell_type": "code",
   "execution_count": null,
   "id": "76473f53",
   "metadata": {},
   "outputs": [],
   "source": []
  },
  {
   "cell_type": "markdown",
   "id": "d4910ca6",
   "metadata": {},
   "source": [
    "**Comment here** on how changing distributions from which our data is collected impacts the null t distribution."
   ]
  },
  {
   "cell_type": "code",
   "execution_count": null,
   "id": "c6f8aa20",
   "metadata": {},
   "outputs": [],
   "source": []
  },
  {
   "cell_type": "markdown",
   "id": "a8cf63c1",
   "metadata": {},
   "source": [
    "# Problem 3 U statistic (i.e. no distribution assumptions)\n",
    "\n",
    "One major concern is that we often know nothing about the data. We have no good reason to assume it is from a normal distribution. Instead, we have to use nonparametric statistical tools wherein we do not have to make any assumptions on whether our data comes from a specific population. One option is the U statistic from the Wilcoxon rank-sum test.\n",
    "\n",
    "The assumption here is that two independent samples were selected from populations having the same distribution, but we don't know what that distribution is.\n",
    "\n",
    "How to calculate U for small data sets (i.e. direct method)\n",
    "- U is the number of “wins” between two competing datasets\n",
    "- For each observation in one set, count the number of times this first value wins over any observations in the other set.\n",
    "- Count 0.5 for any ties\n",
    "- The sum of wins and ties is the U for that datasets\n",
    "- To keep our discussion simple, we will ignore the case of ties\n",
    "\n",
    "Here's a short example:\n",
    "- Jason and Mr. N are competing. Jason scores a 100, 55, and 50. Mr. N scores a 90, 80, 60.\n",
    "- Order the data by wins from highest to lowest and indicate who the score belongs to : J N N N J J\n",
    "- We can calculate the U for Jason (call it U1) by adding the number of wins for each J entry. Namely, the first J beats N 3 times while the second and third J have no wins. So we get U1 = 3 + 0 + 0.\n",
    "    - We can do the same calculation for Mr. N and get U2 = 2 + 2 + 2 = 6.\n",
    "- Now, all we need to interpret these numbers is our absolute favorite thing: **a null distribution!!**\n",
    "\n",
    "The null distribution for a U statistic is simply the score all of the **possible combinations of outcomes**. For example, if we only had two measurements for J and N, the possible combinations are:\n",
    "   - JJBB (U1 = 4)\n",
    "   - JBJB (U1 = 3)\n",
    "   - JBBJ (U1 = 2)\n",
    "   - BJBJ (U1 = 1)\n",
    "   - BBJJ (U1 = 0)\n",
    "   - BJJB (U1 = 2)\n",
    "\n",
    "A histogram of the U1's above would be our null distribution. \n",
    "\n",
    "In the space below, wrote the code to construct the null distribution of U1 for when 5 samples are collected for each group. Hint: look for packages that can identify all combinations of two vectors...\n"
   ]
  },
  {
   "cell_type": "code",
   "execution_count": null,
   "id": "f61ab13d",
   "metadata": {},
   "outputs": [],
   "source": []
  },
  {
   "cell_type": "markdown",
   "id": "38135eb7",
   "metadata": {},
   "source": [
    "You collect two samples:\n",
    "\n",
    "a = (7,1,2,8,10)\n",
    "b = (4,5,6,9,11)\n",
    "\n",
    "Use your distribution to estimate the likelihood (two-sided p value) that a and b come from the same distributions.\n"
   ]
  },
  {
   "cell_type": "code",
   "execution_count": null,
   "id": "e1ed52ae",
   "metadata": {},
   "outputs": [],
   "source": []
  }
 ],
 "metadata": {
  "kernelspec": {
   "display_name": "Python 3 (ipykernel)",
   "language": "python",
   "name": "python3"
  },
  "language_info": {
   "codemirror_mode": {
    "name": "ipython",
    "version": 3
   },
   "file_extension": ".py",
   "mimetype": "text/x-python",
   "name": "python",
   "nbconvert_exporter": "python",
   "pygments_lexer": "ipython3",
   "version": "3.9.12"
  }
 },
 "nbformat": 4,
 "nbformat_minor": 5
}
