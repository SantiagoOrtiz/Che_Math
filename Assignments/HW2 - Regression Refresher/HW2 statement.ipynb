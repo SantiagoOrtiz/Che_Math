{
 "cells": [
  {
   "cell_type": "markdown",
   "id": "6bfcf881",
   "metadata": {},
   "source": [
    "# Homework 2 Regression Refresher\n",
    "\n",
    "In class, we considered a very simply algorithm called gradient descent that we used to estimate the parameters of a simple linear model. But we left many considerations open. These include:\n",
    "- Normalization \n",
    "    - We saw that the SSE is a very big number in our example, leading us to choose awkwardly small learning rates. Normaling the error may help us use more reasonably sized learning rates.\n",
    "- When to stop\n",
    "    - We can tell the algorithm to stop after a set number of iterations or, something smarter, tell it to stop when it begins to take very small step sizes\n",
    "- Multiple solutions\n",
    "    - It should be obvious that gradient descent, as an algorithm, doesn't do much \"thinking\". \n",
    "    - If there are multiple solutions, it will only find one\n",
    "        \n",
    "\n",
    "## Problem 1 - Use gradient descent to identify multiple minima\n",
    "\n",
    "Regression algorithms ultimately search for minima. This can be where an error function is minimized (as we saw in class) or when a polynomial equation is minimized. Using the code from our lecture, adapt the code in order to indentify the roots of the following equation: \n",
    "\n",
    "$x^3 - 6x^2 +11x = 6$\n",
    "  \n",
    "- Look at homework 1 for how to tackle this problem.\n",
    "- Since the polynomial will have more than 1 solution, be sure to consider multiple starting guesses. \n",
    "- Use the \"roots\" function from numpy to check your answer. Roots is especially designed for polynomials and should find all roots."
   ]
  },
  {
   "cell_type": "markdown",
   "id": "fa6339d8",
   "metadata": {},
   "source": [
    "## Problem 2 - Linear regression can be used to analyze \"groups\"\n",
    "\n",
    "In class, we used linear regression to fit a linear model to height and weight data. In this case, the measurements (x) and the outcomes (y) are continuous. Linear regression is also commonly used to analyze groups, wherein the measurements are not continous. For example, we may have measured the height of persons who did or did not eat asparagus when they were young. In this case, x is discrete - a collection of 1's and 0's. \n",
    "\n",
    "Let's use linear regression to analyze the miles per gallon achieved by select type of cars. Download the data from https://gist.github.com/noamross/e5d3e859aa0c794be10b. We want to determine if 8 cylinder vehicles get less gas mileage than 4 and 6 cylinder cars. Cyl = cylinders; MPG = miles per gallon on the table.\n",
    "\n",
    "### a) Write the code to determine the average MPG for 8 cylinder vehicles vs 4/6 cyl vehicle.\n",
    "Be sure the mean values are clearly identified or report them in a new markup cell below the code. Be sure that you are treating 4 and 6 cyl vehicles as one group."
   ]
  },
  {
   "cell_type": "code",
   "execution_count": null,
   "id": "fe2006ba",
   "metadata": {},
   "outputs": [],
   "source": []
  },
  {
   "cell_type": "markdown",
   "id": "dad8b85a",
   "metadata": {},
   "source": [
    "### b) Analyze using linear regression\n",
    "To analyze with linear regression, we have to create a linear model. Here, our y is the MPG. But x is not a continous variable - it's a group variable. \n",
    "\n",
    "- Let's create a \"Group\" column in our data, where a 1 indicates that a vehicle has a 8 cyl engine and a 0 to indicate a 4 or 6 cylinder vehicle. \n",
    "- Use the linear regression **mathematical code** (do not use packages; perform the matrix algrebra) from class to calculate the slope and intercept. Feel free to check your answer using on the packages demonstrated in class.\n",
    "- Report the slope and intercept in a text box below your code. \n",
    "- In the text box, also compare the calculated slope and intercept to the values of the means calculated above. Do you notice any obvious relationships?\n",
    "\n"
   ]
  },
  {
   "cell_type": "code",
   "execution_count": null,
   "id": "1958d642",
   "metadata": {},
   "outputs": [],
   "source": []
  }
 ],
 "metadata": {
  "kernelspec": {
   "display_name": "Python 3 (ipykernel)",
   "language": "python",
   "name": "python3"
  },
  "language_info": {
   "codemirror_mode": {
    "name": "ipython",
    "version": 3
   },
   "file_extension": ".py",
   "mimetype": "text/x-python",
   "name": "python",
   "nbconvert_exporter": "python",
   "pygments_lexer": "ipython3",
   "version": "3.9.12"
  }
 },
 "nbformat": 4,
 "nbformat_minor": 5
}
