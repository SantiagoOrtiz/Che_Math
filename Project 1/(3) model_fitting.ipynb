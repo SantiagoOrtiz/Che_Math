{
 "cells": [
  {
   "cell_type": "markdown",
   "id": "e40b3755",
   "metadata": {},
   "source": [
    "# <ins> Project 1: </ins> \n",
    "### Using regression tools to analyze COVID 19 data at the County level for multiple States in the US"
   ]
  },
  {
   "cell_type": "markdown",
   "id": "811e7e45",
   "metadata": {},
   "source": [
    "***\n",
    "### Academic honesty statement\n",
    "\n",
    "**SANTIAGO ORTIZ LAVERDE**\n",
    "\n",
    "- I state that I worked alone on this assignment. Therefore, I take full responsibility for the academic integrity of the work presented below.\n",
    "***"
   ]
  },
  {
   "cell_type": "markdown",
   "id": "75eb5219",
   "metadata": {},
   "source": [
    "### File name *(3) model_fitting.ipynb*\n",
    "- Consolidated DataFrames are grouped and visualized."
   ]
  },
  {
   "cell_type": "markdown",
   "id": "1c38cb62",
   "metadata": {},
   "source": [
    "#### 1. Import and convert .cvs file (merged data) to pandas DataFrames.\n",
    " $\\beta = (X^T X)^{-1}X^T \\vec{y}$"
   ]
  },
  {
   "cell_type": "code",
   "execution_count": 1,
   "id": "032f7f0f",
   "metadata": {},
   "outputs": [],
   "source": [
    "import pandas as pd\n",
    "import numpy as np\n",
    "import statsmodels.api as sm\n",
    "\n",
    "grouped_df = pd.read_csv('df_grouped.csv')\n",
    "\n",
    "def linear_fit(df, fs=3, f1='Ratio', f2='Household', summary=True):\n",
    "    \n",
    "    keywords = [f1, f2, 'Interaction']\n",
    "    keywds = keywords[0:fs]\n",
    "    \n",
    "    x = df[keywds].to_numpy()\n",
    "    Y = df[['Death_rate']]\n",
    "    X = sm.add_constant(x)\n",
    "    model = sm.OLS(Y, X)\n",
    "    results = model.fit()\n",
    "    \n",
    "    if summary:\n",
    "        print(results.summary())\n",
    "    return results"
   ]
  },
  {
   "cell_type": "markdown",
   "id": "aa8fdd10",
   "metadata": {},
   "source": [
    "#### 2. ."
   ]
  },
  {
   "cell_type": "code",
   "execution_count": 2,
   "id": "5d4ad2f1",
   "metadata": {},
   "outputs": [],
   "source": [
    "CA_df = grouped_df[grouped_df.State == 'California']\n",
    "FL_df = grouped_df[grouped_df.State == 'Florida']\n",
    "NY_df = grouped_df[grouped_df.State == 'New York']"
   ]
  },
  {
   "cell_type": "code",
   "execution_count": 8,
   "id": "736d883a",
   "metadata": {},
   "outputs": [
    {
     "name": "stdout",
     "output_type": "stream",
     "text": [
      "                            OLS Regression Results                            \n",
      "==============================================================================\n",
      "Dep. Variable:             Death_rate   R-squared:                       0.164\n",
      "Model:                            OLS   Adj. R-squared:                  0.141\n",
      "Method:                 Least Squares   F-statistic:                     7.304\n",
      "Date:                Mon, 24 Oct 2022   Prob (F-statistic):           0.000162\n",
      "Time:                        22:08:04   Log-Likelihood:                -701.27\n",
      "No. Observations:                 116   AIC:                             1411.\n",
      "Df Residuals:                     112   BIC:                             1422.\n",
      "Df Model:                           3                                         \n",
      "Covariance Type:            nonrobust                                         \n",
      "==============================================================================\n",
      "                 coef    std err          t      P>|t|      [0.025      0.975]\n",
      "------------------------------------------------------------------------------\n",
      "const        263.3798     15.498     16.995      0.000     232.673     294.087\n",
      "x1          -100.2462     26.278     -3.815      0.000    -152.312     -48.180\n",
      "x2             3.9646     27.939      0.142      0.887     -51.393      59.322\n",
      "x3            18.0762     40.388      0.448      0.655     -61.948      98.101\n",
      "==============================================================================\n",
      "Omnibus:                       12.330   Durbin-Watson:                   1.215\n",
      "Prob(Omnibus):                  0.002   Jarque-Bera (JB):               12.966\n",
      "Skew:                           0.786   Prob(JB):                      0.00153\n",
      "Kurtosis:                       3.458   Cond. No.                         6.43\n",
      "==============================================================================\n",
      "\n",
      "Notes:\n",
      "[1] Standard Errors assume that the covariance matrix of the errors is correctly specified.\n"
     ]
    },
    {
     "data": {
      "text/plain": [
       "const    263.379833\n",
       "x1      -100.246228\n",
       "x2         3.964572\n",
       "x3        18.076238\n",
       "dtype: float64"
      ]
     },
     "execution_count": 8,
     "metadata": {},
     "output_type": "execute_result"
    }
   ],
   "source": [
    "model_fit = linear_fit(grouped_df, summary=True)\n",
    "model_fit.params"
   ]
  },
  {
   "cell_type": "code",
   "execution_count": 4,
   "id": "2d5f96ff",
   "metadata": {},
   "outputs": [
    {
     "data": {
      "text/plain": [
       "const    205.782077\n",
       "x1      -104.213180\n",
       "x2         5.753111\n",
       "x3        19.719021\n",
       "dtype: float64"
      ]
     },
     "execution_count": 4,
     "metadata": {},
     "output_type": "execute_result"
    }
   ],
   "source": [
    "model_fit = linear_fit(CA_df, summary=False)\n",
    "model_fit.params"
   ]
  },
  {
   "cell_type": "code",
   "execution_count": 5,
   "id": "6e117e48",
   "metadata": {},
   "outputs": [
    {
     "data": {
      "text/plain": [
       "const    390.117431\n",
       "x1      -136.482335\n",
       "x2       -55.253090\n",
       "x3        33.427882\n",
       "dtype: float64"
      ]
     },
     "execution_count": 5,
     "metadata": {},
     "output_type": "execute_result"
    }
   ],
   "source": [
    "model_fit = linear_fit(FL_df, summary=False)\n",
    "model_fit.params"
   ]
  },
  {
   "cell_type": "code",
   "execution_count": 6,
   "id": "96773f18",
   "metadata": {},
   "outputs": [
    {
     "data": {
      "text/plain": [
       "const    183.440411\n",
       "x1       -40.562555\n",
       "x2        34.316743\n",
       "x3        39.372385\n",
       "dtype: float64"
      ]
     },
     "execution_count": 6,
     "metadata": {},
     "output_type": "execute_result"
    }
   ],
   "source": [
    "model_fit = linear_fit(NY_df, summary=False)\n",
    "model_fit.params"
   ]
  },
  {
   "cell_type": "code",
   "execution_count": 18,
   "id": "22791a7d",
   "metadata": {},
   "outputs": [
    {
     "name": "stdout",
     "output_type": "stream",
     "text": [
      "                            OLS Regression Results                            \n",
      "==============================================================================\n",
      "Dep. Variable:             Death_rate   R-squared:                       0.159\n",
      "Model:                            OLS   Adj. R-squared:                  0.152\n",
      "Method:                 Least Squares   F-statistic:                     21.59\n",
      "Date:                Mon, 24 Oct 2022   Prob (F-statistic):           9.13e-06\n",
      "Time:                        22:13:25   Log-Likelihood:                -701.57\n",
      "No. Observations:                 116   AIC:                             1407.\n",
      "Df Residuals:                     114   BIC:                             1413.\n",
      "Df Model:                           1                                         \n",
      "Covariance Type:            nonrobust                                         \n",
      "==============================================================================\n",
      "                 coef    std err          t      P>|t|      [0.025      0.975]\n",
      "------------------------------------------------------------------------------\n",
      "const        264.5997     12.815     20.648      0.000     239.213     289.986\n",
      "x1           -89.7974     19.327     -4.646      0.000    -128.084     -51.511\n",
      "==============================================================================\n",
      "Omnibus:                       11.217   Durbin-Watson:                   1.206\n",
      "Prob(Omnibus):                  0.004   Jarque-Bera (JB):               11.640\n",
      "Skew:                           0.756   Prob(JB):                      0.00297\n",
      "Kurtosis:                       3.349   Cond. No.                         2.50\n",
      "==============================================================================\n",
      "\n",
      "Notes:\n",
      "[1] Standard Errors assume that the covariance matrix of the errors is correctly specified.\n"
     ]
    },
    {
     "data": {
      "text/plain": [
       "const    264.599701\n",
       "x1       -89.797432\n",
       "dtype: float64"
      ]
     },
     "execution_count": 18,
     "metadata": {},
     "output_type": "execute_result"
    }
   ],
   "source": [
    "linear_fit(grouped_df, fs=1, summary=True).params"
   ]
  },
  {
   "cell_type": "code",
   "execution_count": 17,
   "id": "39f6a0b6",
   "metadata": {},
   "outputs": [
    {
     "name": "stdout",
     "output_type": "stream",
     "text": [
      "                            OLS Regression Results                            \n",
      "==============================================================================\n",
      "Dep. Variable:             Death_rate   R-squared:                       0.001\n",
      "Model:                            OLS   Adj. R-squared:                 -0.007\n",
      "Method:                 Least Squares   F-statistic:                    0.1545\n",
      "Date:                Mon, 24 Oct 2022   Prob (F-statistic):              0.695\n",
      "Time:                        22:11:27   Log-Likelihood:                -711.55\n",
      "No. Observations:                 116   AIC:                             1427.\n",
      "Df Residuals:                     114   BIC:                             1433.\n",
      "Df Model:                           1                                         \n",
      "Covariance Type:            nonrobust                                         \n",
      "==============================================================================\n",
      "                 coef    std err          t      P>|t|      [0.025      0.975]\n",
      "------------------------------------------------------------------------------\n",
      "const        228.5116     13.555     16.858      0.000     201.658     255.365\n",
      "x1            -8.3712     21.296     -0.393      0.695     -50.558      33.816\n",
      "==============================================================================\n",
      "Omnibus:                       15.405   Durbin-Watson:                   1.218\n",
      "Prob(Omnibus):                  0.000   Jarque-Bera (JB):               17.137\n",
      "Skew:                           0.901   Prob(JB):                     0.000190\n",
      "Kurtosis:                       3.544   Cond. No.                         2.45\n",
      "==============================================================================\n",
      "\n",
      "Notes:\n",
      "[1] Standard Errors assume that the covariance matrix of the errors is correctly specified.\n"
     ]
    }
   ],
   "source": [
    "results = linear_fit(grouped_df, fs=1, f1='Household', summary=True)"
   ]
  },
  {
   "cell_type": "code",
   "execution_count": 13,
   "id": "958d176e",
   "metadata": {},
   "outputs": [
    {
     "data": {
      "text/plain": [
       "const    8.652223e-33\n",
       "x1       2.235418e-04\n",
       "x2       8.874131e-01\n",
       "x3       6.553357e-01\n",
       "dtype: float64"
      ]
     },
     "execution_count": 13,
     "metadata": {},
     "output_type": "execute_result"
    }
   ],
   "source": [
    "results.pvalues"
   ]
  },
  {
   "cell_type": "code",
   "execution_count": null,
   "id": "e88fde16",
   "metadata": {},
   "outputs": [],
   "source": []
  }
 ],
 "metadata": {
  "kernelspec": {
   "display_name": "Python 3 (ipykernel)",
   "language": "python",
   "name": "python3"
  },
  "language_info": {
   "codemirror_mode": {
    "name": "ipython",
    "version": 3
   },
   "file_extension": ".py",
   "mimetype": "text/x-python",
   "name": "python",
   "nbconvert_exporter": "python",
   "pygments_lexer": "ipython3",
   "version": "3.9.12"
  }
 },
 "nbformat": 4,
 "nbformat_minor": 5
}
