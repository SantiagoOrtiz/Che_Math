{
 "cells": [
  {
   "cell_type": "markdown",
   "id": "e40b3755",
   "metadata": {},
   "source": [
    "# <ins> Project 1: </ins> \n",
    "### Using regression tools to analyze COVID 19 data at the County level for multiple States in the US"
   ]
  },
  {
   "cell_type": "markdown",
   "id": "811e7e45",
   "metadata": {},
   "source": [
    "***\n",
    "### Academic honesty statement\n",
    "\n",
    "**SANTIAGO ORTIZ LAVERDE**\n",
    "\n",
    "- I state that I worked alone on this assignment. Therefore, I take full responsibility for the academic integrity of the work presented below.\n",
    "***"
   ]
  },
  {
   "cell_type": "markdown",
   "id": "75eb5219",
   "metadata": {},
   "source": [
    "### File name *(3) model_fitting.ipynb*\n",
    "- The data is fitted using linear regression tools for at least two simple comparisons (2 factors) and one complex comparison that includes interactions (3 parameters)."
   ]
  },
  {
   "cell_type": "code",
   "execution_count": 1,
   "id": "fbc50de6",
   "metadata": {},
   "outputs": [],
   "source": [
    "import pandas as pd\n",
    "import numpy as np\n",
    "import statsmodels.api as sm"
   ]
  },
  {
   "cell_type": "markdown",
   "id": "1c38cb62",
   "metadata": {},
   "source": [
    "#### 1. Import Grouped data (.cvs file) and code a linear fitting function.\n",
    " $\\beta = (X^T X)^{-1}X^T \\vec{y}$"
   ]
  },
  {
   "cell_type": "code",
   "execution_count": 2,
   "id": "032f7f0f",
   "metadata": {},
   "outputs": [],
   "source": [
    "grouped_df = pd.read_csv('df_grouped.csv')\n",
    "CA_df = grouped_df[grouped_df.State == 'California']\n",
    "FL_df = grouped_df[grouped_df.State == 'Florida']\n",
    "NY_df = grouped_df[grouped_df.State == 'New York']\n",
    "\n",
    "def linear_fit(df, fs=3, f1='Ratio', f2='Household', y='Death_rate', summary=True):\n",
    "    \n",
    "    keywords = [f1, f2, 'Interaction']\n",
    "    keywds = keywords[0:fs]\n",
    "    \n",
    "    x = df[keywds].to_numpy()\n",
    "    Y = df[[y]]\n",
    "    X = sm.add_constant(x)\n",
    "    model = sm.OLS(Y, X)\n",
    "    results = model.fit()\n",
    "    \n",
    "    if summary:\n",
    "        print(results.summary())\n",
    "    return results"
   ]
  },
  {
   "cell_type": "markdown",
   "id": "aa8fdd10",
   "metadata": {},
   "source": [
    "#### 2. Use the regression tools to fit the data: Complex comparison at county level considering three states."
   ]
  },
  {
   "cell_type": "code",
   "execution_count": 3,
   "id": "736d883a",
   "metadata": {},
   "outputs": [
    {
     "name": "stdout",
     "output_type": "stream",
     "text": [
      "                            OLS Regression Results                            \n",
      "==============================================================================\n",
      "Dep. Variable:             Death_rate   R-squared:                       0.164\n",
      "Model:                            OLS   Adj. R-squared:                  0.141\n",
      "Method:                 Least Squares   F-statistic:                     7.304\n",
      "Date:                Tue, 25 Oct 2022   Prob (F-statistic):           0.000162\n",
      "Time:                        13:17:08   Log-Likelihood:                -701.27\n",
      "No. Observations:                 116   AIC:                             1411.\n",
      "Df Residuals:                     112   BIC:                             1422.\n",
      "Df Model:                           3                                         \n",
      "Covariance Type:            nonrobust                                         \n",
      "==============================================================================\n",
      "                 coef    std err          t      P>|t|      [0.025      0.975]\n",
      "------------------------------------------------------------------------------\n",
      "const        263.3798     15.498     16.995      0.000     232.673     294.087\n",
      "x1          -100.2462     26.278     -3.815      0.000    -152.312     -48.180\n",
      "x2             3.9646     27.939      0.142      0.887     -51.393      59.322\n",
      "x3            18.0762     40.388      0.448      0.655     -61.948      98.101\n",
      "==============================================================================\n",
      "Omnibus:                       12.330   Durbin-Watson:                   1.215\n",
      "Prob(Omnibus):                  0.002   Jarque-Bera (JB):               12.966\n",
      "Skew:                           0.786   Prob(JB):                      0.00153\n",
      "Kurtosis:                       3.458   Cond. No.                         6.43\n",
      "==============================================================================\n",
      "\n",
      "Notes:\n",
      "[1] Standard Errors assume that the covariance matrix of the errors is correctly specified.\n"
     ]
    }
   ],
   "source": [
    "grouped_model_fit = linear_fit(grouped_df, summary=True)"
   ]
  },
  {
   "cell_type": "markdown",
   "id": "f50f2c90",
   "metadata": {},
   "source": [
    "#### 3.1 Simple comparison at county level for California state."
   ]
  },
  {
   "cell_type": "code",
   "execution_count": 4,
   "id": "2d5f96ff",
   "metadata": {},
   "outputs": [
    {
     "name": "stdout",
     "output_type": "stream",
     "text": [
      "                            OLS Regression Results                            \n",
      "==============================================================================\n",
      "Dep. Variable:             Death_rate   R-squared:                       0.329\n",
      "Model:                            OLS   Adj. R-squared:                  0.294\n",
      "Method:                 Least Squares   F-statistic:                     9.335\n",
      "Date:                Tue, 25 Oct 2022   Prob (F-statistic):           0.000504\n",
      "Time:                        13:17:08   Log-Likelihood:                -229.52\n",
      "No. Observations:                  41   AIC:                             465.0\n",
      "Df Residuals:                      38   BIC:                             470.2\n",
      "Df Model:                           2                                         \n",
      "Covariance Type:            nonrobust                                         \n",
      "==============================================================================\n",
      "                 coef    std err          t      P>|t|      [0.025      0.975]\n",
      "------------------------------------------------------------------------------\n",
      "const        202.0887     16.960     11.915      0.000     167.754     236.423\n",
      "x1           -93.6606     21.682     -4.320      0.000    -137.553     -49.768\n",
      "x2            14.2480     21.526      0.662      0.512     -29.330      57.826\n",
      "==============================================================================\n",
      "Omnibus:                       16.728   Durbin-Watson:                   2.446\n",
      "Prob(Omnibus):                  0.000   Jarque-Bera (JB):               25.698\n",
      "Skew:                           1.126   Prob(JB):                     2.63e-06\n",
      "Kurtosis:                       6.157   Cond. No.                         2.90\n",
      "==============================================================================\n",
      "\n",
      "Notes:\n",
      "[1] Standard Errors assume that the covariance matrix of the errors is correctly specified.\n"
     ]
    }
   ],
   "source": [
    "CA_model_fit = linear_fit(CA_df, fs=2, summary=True)"
   ]
  },
  {
   "cell_type": "markdown",
   "id": "2e9a6bc1",
   "metadata": {},
   "source": [
    "#### 3.2 Simple comparison at county level for Florida state."
   ]
  },
  {
   "cell_type": "code",
   "execution_count": 5,
   "id": "6e117e48",
   "metadata": {},
   "outputs": [
    {
     "name": "stdout",
     "output_type": "stream",
     "text": [
      "                            OLS Regression Results                            \n",
      "==============================================================================\n",
      "Dep. Variable:             Death_rate   R-squared:                       0.362\n",
      "Model:                            OLS   Adj. R-squared:                  0.329\n",
      "Method:                 Least Squares   F-statistic:                     10.80\n",
      "Date:                Tue, 25 Oct 2022   Prob (F-statistic):           0.000194\n",
      "Time:                        13:17:08   Log-Likelihood:                -241.57\n",
      "No. Observations:                  41   AIC:                             489.1\n",
      "Df Residuals:                      38   BIC:                             494.3\n",
      "Df Model:                           2                                         \n",
      "Covariance Type:            nonrobust                                         \n",
      "==============================================================================\n",
      "                 coef    std err          t      P>|t|      [0.025      0.975]\n",
      "------------------------------------------------------------------------------\n",
      "const        385.2312     21.025     18.322      0.000     342.668     427.795\n",
      "x1          -120.4276     29.734     -4.050      0.000    -180.622     -60.234\n",
      "x2           -41.6803     29.227     -1.426      0.162    -100.848      17.487\n",
      "==============================================================================\n",
      "Omnibus:                        2.682   Durbin-Watson:                   1.833\n",
      "Prob(Omnibus):                  0.262   Jarque-Bera (JB):                1.649\n",
      "Skew:                           0.233   Prob(JB):                        0.439\n",
      "Kurtosis:                       2.135   Cond. No.                         2.72\n",
      "==============================================================================\n",
      "\n",
      "Notes:\n",
      "[1] Standard Errors assume that the covariance matrix of the errors is correctly specified.\n"
     ]
    }
   ],
   "source": [
    "FL_model_fit = linear_fit(FL_df, fs=2, summary=True)"
   ]
  },
  {
   "cell_type": "markdown",
   "id": "02edb350",
   "metadata": {},
   "source": [
    "#### 3.3 Simple comparison at county level for New York state."
   ]
  },
  {
   "cell_type": "code",
   "execution_count": 6,
   "id": "96773f18",
   "metadata": {},
   "outputs": [
    {
     "name": "stdout",
     "output_type": "stream",
     "text": [
      "                            OLS Regression Results                            \n",
      "==============================================================================\n",
      "Dep. Variable:             Death_rate   R-squared:                       0.195\n",
      "Model:                            OLS   Adj. R-squared:                  0.143\n",
      "Method:                 Least Squares   F-statistic:                     3.764\n",
      "Date:                Tue, 25 Oct 2022   Prob (F-statistic):             0.0344\n",
      "Time:                        13:17:08   Log-Likelihood:                -183.50\n",
      "No. Observations:                  34   AIC:                             373.0\n",
      "Df Residuals:                      31   BIC:                             377.6\n",
      "Df Model:                           2                                         \n",
      "Covariance Type:            nonrobust                                         \n",
      "==============================================================================\n",
      "                 coef    std err          t      P>|t|      [0.025      0.975]\n",
      "------------------------------------------------------------------------------\n",
      "const        181.5553     13.645     13.305      0.000     153.726     209.385\n",
      "x1           -35.6612     21.098     -1.690      0.101     -78.692       7.369\n",
      "x2            66.3640     24.870      2.668      0.012      15.642     117.086\n",
      "==============================================================================\n",
      "Omnibus:                        0.504   Durbin-Watson:                   1.909\n",
      "Prob(Omnibus):                  0.777   Jarque-Bera (JB):                0.636\n",
      "Skew:                           0.211   Prob(JB):                        0.727\n",
      "Kurtosis:                       2.480   Cond. No.                         3.42\n",
      "==============================================================================\n",
      "\n",
      "Notes:\n",
      "[1] Standard Errors assume that the covariance matrix of the errors is correctly specified.\n"
     ]
    }
   ],
   "source": [
    "NY_model_fit = linear_fit(NY_df, fs=2, summary=True)"
   ]
  },
  {
   "cell_type": "markdown",
   "id": "30efd2fb",
   "metadata": {},
   "source": [
    "#### 4. Household income & Education level regression at county level considering three states."
   ]
  },
  {
   "cell_type": "code",
   "execution_count": 7,
   "id": "3cfae24c",
   "metadata": {},
   "outputs": [
    {
     "name": "stdout",
     "output_type": "stream",
     "text": [
      "                            OLS Regression Results                            \n",
      "==============================================================================\n",
      "Dep. Variable:              Household   R-squared:                       0.050\n",
      "Model:                            OLS   Adj. R-squared:                  0.042\n",
      "Method:                 Least Squares   F-statistic:                     6.032\n",
      "Date:                Tue, 25 Oct 2022   Prob (F-statistic):             0.0156\n",
      "Time:                        13:17:08   Log-Likelihood:                -79.077\n",
      "No. Observations:                 116   AIC:                             162.2\n",
      "Df Residuals:                     114   BIC:                             167.7\n",
      "Df Model:                           1                                         \n",
      "Covariance Type:            nonrobust                                         \n",
      "==============================================================================\n",
      "                 coef    std err          t      P>|t|      [0.025      0.975]\n",
      "------------------------------------------------------------------------------\n",
      "const          0.3077      0.060      5.140      0.000       0.189       0.426\n",
      "x1             0.2217      0.090      2.456      0.016       0.043       0.401\n",
      "==============================================================================\n",
      "Omnibus:                     1894.109   Durbin-Watson:                   1.869\n",
      "Prob(Omnibus):                  0.000   Jarque-Bera (JB):               15.664\n",
      "Skew:                           0.360   Prob(JB):                     0.000397\n",
      "Kurtosis:                       1.350   Cond. No.                         2.50\n",
      "==============================================================================\n",
      "\n",
      "Notes:\n",
      "[1] Standard Errors assume that the covariance matrix of the errors is correctly specified.\n"
     ]
    }
   ],
   "source": [
    "simple_model_fit = linear_fit(grouped_df, fs=1, f1='Ratio', y='Household', summary=True)"
   ]
  },
  {
   "cell_type": "markdown",
   "id": "31910397",
   "metadata": {},
   "source": [
    "***"
   ]
  }
 ],
 "metadata": {
  "kernelspec": {
   "display_name": "Python 3 (ipykernel)",
   "language": "python",
   "name": "python3"
  },
  "language_info": {
   "codemirror_mode": {
    "name": "ipython",
    "version": 3
   },
   "file_extension": ".py",
   "mimetype": "text/x-python",
   "name": "python",
   "nbconvert_exporter": "python",
   "pygments_lexer": "ipython3",
   "version": "3.9.12"
  }
 },
 "nbformat": 4,
 "nbformat_minor": 5
}
