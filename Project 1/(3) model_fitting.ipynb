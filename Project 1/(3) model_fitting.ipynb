{
 "cells": [
  {
   "cell_type": "code",
   "execution_count": 27,
   "id": "032f7f0f",
   "metadata": {},
   "outputs": [],
   "source": [
    "import pandas as pd\n",
    "import numpy as np\n",
    "import statsmodels.api as sm\n",
    "\n",
    "grouped_df = pd.read_csv('grouped_df.csv')\n",
    "\n",
    "def linear_fit(df, fs=3, f1='Ratio', f2='Household', summary=True):\n",
    "    \n",
    "    keywords = [f1, f2, 'Interaction']\n",
    "    keywds = keywords[0:fs]\n",
    "    \n",
    "    x = df[keywds].to_numpy()\n",
    "    Y = df[['Death_rate']]\n",
    "    X = sm.add_constant(x)\n",
    "    model = sm.OLS(Y, X)\n",
    "    results = model.fit()\n",
    "    \n",
    "    if summary:\n",
    "        print(results.summary())\n",
    "    return results"
   ]
  },
  {
   "cell_type": "markdown",
   "id": "aa8fdd10",
   "metadata": {},
   "source": [
    " $\\beta = (X^T X)^{-1}X^T \\vec{y}$"
   ]
  },
  {
   "cell_type": "code",
   "execution_count": 25,
   "id": "5d4ad2f1",
   "metadata": {},
   "outputs": [],
   "source": [
    "CA_df = grouped_df[grouped_df.State == 'California']\n",
    "FL_df = grouped_df[grouped_df.State == 'Florida']\n",
    "NY_df = grouped_df[grouped_df.State == 'New York']"
   ]
  },
  {
   "cell_type": "code",
   "execution_count": 28,
   "id": "736d883a",
   "metadata": {},
   "outputs": [
    {
     "data": {
      "text/plain": [
       "const    263.379833\n",
       "x1      -100.246228\n",
       "x2         3.964572\n",
       "x3        18.076238\n",
       "dtype: float64"
      ]
     },
     "execution_count": 28,
     "metadata": {},
     "output_type": "execute_result"
    }
   ],
   "source": [
    "model_fit = linear_fit(grouped_df, summary=False)\n",
    "model_fit.params"
   ]
  },
  {
   "cell_type": "code",
   "execution_count": 29,
   "id": "2d5f96ff",
   "metadata": {},
   "outputs": [
    {
     "data": {
      "text/plain": [
       "const    205.782077\n",
       "x1      -104.213180\n",
       "x2         5.753111\n",
       "x3        19.719021\n",
       "dtype: float64"
      ]
     },
     "execution_count": 29,
     "metadata": {},
     "output_type": "execute_result"
    }
   ],
   "source": [
    "model_fit = linear_fit(CA_df, summary=False)\n",
    "model_fit.params"
   ]
  },
  {
   "cell_type": "code",
   "execution_count": 30,
   "id": "6e117e48",
   "metadata": {},
   "outputs": [
    {
     "data": {
      "text/plain": [
       "const    390.117431\n",
       "x1      -136.482335\n",
       "x2       -55.253090\n",
       "x3        33.427882\n",
       "dtype: float64"
      ]
     },
     "execution_count": 30,
     "metadata": {},
     "output_type": "execute_result"
    }
   ],
   "source": [
    "model_fit = linear_fit(FL_df, summary=False)\n",
    "model_fit.params"
   ]
  },
  {
   "cell_type": "code",
   "execution_count": 31,
   "id": "96773f18",
   "metadata": {},
   "outputs": [
    {
     "data": {
      "text/plain": [
       "const    183.440411\n",
       "x1       -40.562555\n",
       "x2        34.316743\n",
       "x3        39.372385\n",
       "dtype: float64"
      ]
     },
     "execution_count": 31,
     "metadata": {},
     "output_type": "execute_result"
    }
   ],
   "source": [
    "model_fit = linear_fit(NY_df, summary=False)\n",
    "model_fit.params"
   ]
  },
  {
   "cell_type": "code",
   "execution_count": 37,
   "id": "22791a7d",
   "metadata": {},
   "outputs": [
    {
     "data": {
      "text/plain": [
       "const    263.379833\n",
       "x1      -100.246228\n",
       "x2         3.964572\n",
       "x3        18.076238\n",
       "dtype: float64"
      ]
     },
     "execution_count": 37,
     "metadata": {},
     "output_type": "execute_result"
    }
   ],
   "source": [
    "linear_fit(grouped_df, fs=3, summary=False).params"
   ]
  },
  {
   "cell_type": "code",
   "execution_count": null,
   "id": "39f6a0b6",
   "metadata": {},
   "outputs": [],
   "source": []
  }
 ],
 "metadata": {
  "kernelspec": {
   "display_name": "Python 3 (ipykernel)",
   "language": "python",
   "name": "python3"
  },
  "language_info": {
   "codemirror_mode": {
    "name": "ipython",
    "version": 3
   },
   "file_extension": ".py",
   "mimetype": "text/x-python",
   "name": "python",
   "nbconvert_exporter": "python",
   "pygments_lexer": "ipython3",
   "version": "3.9.12"
  }
 },
 "nbformat": 4,
 "nbformat_minor": 5
}
